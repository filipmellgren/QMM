{
 "cells": [
  {
   "cell_type": "markdown",
   "id": "37fdad3a",
   "metadata": {},
   "source": [
    "# Incomplete markets with aggregate risk\n",
    "\n",
    "Solutions by filip.mellgren@su.se"
   ]
  },
  {
   "cell_type": "code",
   "execution_count": 1,
   "id": "c808df3a",
   "metadata": {},
   "outputs": [],
   "source": [
    "import numpy as np"
   ]
  },
  {
   "cell_type": "markdown",
   "id": "4ae5c00b",
   "metadata": {},
   "source": [
    "## Steady state\n"
   ]
  },
  {
   "cell_type": "code",
   "execution_count": null,
   "id": "0a56ce4d",
   "metadata": {},
   "outputs": [],
   "source": []
  },
  {
   "cell_type": "markdown",
   "id": "3aa5ab35",
   "metadata": {},
   "source": [
    "Interest rate:\n",
    "Aggregate capital stock: "
   ]
  },
  {
   "cell_type": "markdown",
   "id": "53430e84",
   "metadata": {},
   "source": [
    "## Solve for equilibrium using BKM\n",
    "Solve for the non-linear MIT-shock"
   ]
  },
  {
   "cell_type": "code",
   "execution_count": null,
   "id": "d4405218",
   "metadata": {},
   "outputs": [],
   "source": []
  },
  {
   "cell_type": "markdown",
   "id": "5b2c9406",
   "metadata": {},
   "source": [
    "Variance C, I, Y"
   ]
  },
  {
   "cell_type": "code",
   "execution_count": null,
   "id": "fcd1d821",
   "metadata": {},
   "outputs": [],
   "source": []
  },
  {
   "cell_type": "markdown",
   "id": "3ea320e4",
   "metadata": {},
   "source": [
    "## Compare with the second moments from KS"
   ]
  },
  {
   "cell_type": "code",
   "execution_count": null,
   "id": "32adecd9",
   "metadata": {},
   "outputs": [],
   "source": []
  },
  {
   "cell_type": "markdown",
   "id": "b1edfefe",
   "metadata": {},
   "source": [
    "## Impulse response using sequence space Jacobian Method"
   ]
  },
  {
   "cell_type": "code",
   "execution_count": null,
   "id": "22cd6296",
   "metadata": {},
   "outputs": [],
   "source": [
    "# Plot Jacobian"
   ]
  },
  {
   "cell_type": "markdown",
   "id": "75862024",
   "metadata": {},
   "source": [
    "Compare policy functions with those computed in part 2"
   ]
  },
  {
   "cell_type": "markdown",
   "id": "ec34d634",
   "metadata": {},
   "source": [
    "## Part 2, larger shocks"
   ]
  }
 ],
 "metadata": {
  "kernelspec": {
   "display_name": "Python 3 (ipykernel)",
   "language": "python",
   "name": "python3"
  },
  "language_info": {
   "codemirror_mode": {
    "name": "ipython",
    "version": 3
   },
   "file_extension": ".py",
   "mimetype": "text/x-python",
   "name": "python",
   "nbconvert_exporter": "python",
   "pygments_lexer": "ipython3",
   "version": "3.11.0"
  }
 },
 "nbformat": 4,
 "nbformat_minor": 5
}
